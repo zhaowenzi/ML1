{
 "cells": [
  {
   "cell_type": "code",
   "execution_count": 122,
   "metadata": {},
   "outputs": [],
   "source": [
    "import numpy as np\n",
    "import matplotlib.pyplot as plt\n",
    "from sklearn.externals.joblib import Memory\n",
    "from sklearn.datasets import load_svmlight_file\n",
    "from sklearn.model_selection import train_test_split\n",
    "mem = Memory(\"./mycache\")"
   ]
  },
  {
   "cell_type": "code",
   "execution_count": 123,
   "metadata": {},
   "outputs": [],
   "source": [
    "def get_data():\n",
    "    data=load_svmlight_file('./Desktop/housing_scale')\n",
    "    return data[0].todense(),data[1]\n",
    "    \n",
    "X,y=get_data()\n",
    "\n",
    "y=np.reshape(y,(len(y),1))\n",
    "X_train,X_test,y_train,y_test=train_test_split(X,y,test_size=0.3,random_state=42)#分割数据集"
   ]
  },
  {
   "cell_type": "code",
   "execution_count": 124,
   "metadata": {},
   "outputs": [],
   "source": [
    "loss_train=[]\n",
    "loss_test=[]\n",
    "learning_rate = 0.001\n",
    "(n,m) = np.shape(X_train)\n",
    "X_train = np.hstack((X_train,np.ones((n,1))))\n",
    "(n,m) = np.shape(X_test)\n",
    "X_test = np.hstack((X_test,np.ones((n,1))))\n",
    "\n",
    "w = np.zeros((m+1,1))"
   ]
  },
  {
   "cell_type": "code",
   "execution_count": 125,
   "metadata": {},
   "outputs": [],
   "source": [
    "def loss(X,w,y):\n",
    "    y_predict = X*w\n",
    "    s = 0\n",
    "    for i in range(0,len(y)):\n",
    "        s=(s+(y_predict[i]-y[i])**2)\n",
    "    return s/(2*len(y))"
   ]
  },
  {
   "cell_type": "code",
   "execution_count": 126,
   "metadata": {},
   "outputs": [],
   "source": [
    "def gradient(X,w,y):\n",
    "    grad = X.T*(X*w-y)\n",
    "    return grad"
   ]
  },
  {
   "cell_type": "code",
   "execution_count": 127,
   "metadata": {},
   "outputs": [
    {
     "name": "stdout",
     "output_type": "stream",
     "text": [
      "100\n"
     ]
    },
    {
     "data": {
      "image/png": "[encoded data removed]",
      "text/plain": [
       "<matplotlib.figure.Figure at 0x1a12c409e8>"
      ]
     },
     "metadata": {},
     "output_type": "display_data"
    }
   ],
   "source": [
    "for i in range(100):\n",
    "    grad = gradient(X_train,w,y_train)\n",
    "    w=w-learning_rate*grad\n",
    "    l_train = loss(X_train,w,y_train)\n",
    "    l_test = loss(X_test,w,y_test)\n",
    "    loss_train.append(l_train[0,0])\n",
    "    loss_test.append(l_test[0,0])\n",
    "print(len(loss_train))\n",
    "plt.xlabel('times')\n",
    "plt.ylabel('loss')\n",
    "plt.plot(range(len(loss_train)),loss_train,label='training set')\n",
    "plt.plot(range(len(loss_test)),loss_test,label='test set')\n",
    "plt.legend()\n",
    "plt.show()\n",
    "    "
   ]
  }
 ],
 "metadata": {
  "kernelspec": {
   "display_name": "Python 3",
   "language": "python",
   "name": "python3"
  },
  "language_info": {
   "codemirror_mode": {
    "name": "ipython",
    "version": 3
   },
   "file_extension": ".py",
   "mimetype": "text/x-python",
   "name": "python",
   "nbconvert_exporter": "python",
   "pygments_lexer": "ipython3",
   "version": "3.6.3"
  }
 },
 "nbformat": 4,
 "nbformat_minor": 2
}
